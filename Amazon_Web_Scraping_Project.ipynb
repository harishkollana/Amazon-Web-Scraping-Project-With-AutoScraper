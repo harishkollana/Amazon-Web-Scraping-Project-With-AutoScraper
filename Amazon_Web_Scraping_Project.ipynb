{
  "nbformat": 4,
  "nbformat_minor": 0,
  "metadata": {
    "colab": {
      "name": "Amazon Web Scraping Project.ipynb",
      "provenance": [],
      "collapsed_sections": [],
      "mount_file_id": "1ajRWEpyXV_OyOkgaK-6rEyr8b1zo0hP3",
      "authorship_tag": "ABX9TyN5L5F2d8H9x94mcBaf32bG",
      "include_colab_link": true
    },
    "kernelspec": {
      "name": "python3",
      "display_name": "Python 3"
    },
    "language_info": {
      "name": "python"
    }
  },
  "cells": [
    {
      "cell_type": "markdown",
      "metadata": {
        "id": "view-in-github",
        "colab_type": "text"
      },
      "source": [
        "<a href=\"https://colab.research.google.com/github/harishkollana/Amazon-Web-Scraping-Project-With-AutoScraper/blob/main/Amazon_Web_Scraping_Project.ipynb\" target=\"_parent\"><img src=\"https://colab.research.google.com/assets/colab-badge.svg\" alt=\"Open In Colab\"/></a>"
      ]
    },
    {
      "cell_type": "markdown",
      "source": [
        "import libraries"
      ],
      "metadata": {
        "id": "JsYqFVy0Flz0"
      }
    },
    {
      "cell_type": "code",
      "source": [
        "! pip install autoscraper"
      ],
      "metadata": {
        "colab": {
          "base_uri": "https://localhost:8080/"
        },
        "id": "2XsdRUOxMcWs",
        "outputId": "7ca7bac7-cedf-4cea-9142-8a0595f2cada"
      },
      "execution_count": 31,
      "outputs": [
        {
          "output_type": "stream",
          "name": "stdout",
          "text": [
            "Requirement already satisfied: autoscraper in /usr/local/lib/python3.7/dist-packages (1.1.12)\n",
            "Requirement already satisfied: lxml in /usr/local/lib/python3.7/dist-packages (from autoscraper) (4.2.6)\n",
            "Requirement already satisfied: requests in /usr/local/lib/python3.7/dist-packages (from autoscraper) (2.23.0)\n",
            "Requirement already satisfied: bs4 in /usr/local/lib/python3.7/dist-packages (from autoscraper) (0.0.1)\n",
            "Requirement already satisfied: beautifulsoup4 in /usr/local/lib/python3.7/dist-packages (from bs4->autoscraper) (4.6.3)\n",
            "Requirement already satisfied: idna<3,>=2.5 in /usr/local/lib/python3.7/dist-packages (from requests->autoscraper) (2.10)\n",
            "Requirement already satisfied: chardet<4,>=3.0.2 in /usr/local/lib/python3.7/dist-packages (from requests->autoscraper) (3.0.4)\n",
            "Requirement already satisfied: urllib3!=1.25.0,!=1.25.1,<1.26,>=1.21.1 in /usr/local/lib/python3.7/dist-packages (from requests->autoscraper) (1.25.11)\n",
            "Requirement already satisfied: certifi>=2017.4.17 in /usr/local/lib/python3.7/dist-packages (from requests->autoscraper) (2021.10.8)\n"
          ]
        }
      ]
    },
    {
      "cell_type": "markdown",
      "source": [
        "Connect to Website and pull in data"
      ],
      "metadata": {
        "id": "9bI5G7JbF8FT"
      }
    },
    {
      "cell_type": "code",
      "source": [
        "from autoscraper import AutoScraper\n",
        "\n",
        "url = 'https://www.amazon.in/s?k=hometheater'\n",
        "\n",
        "\n",
        "wanted_list = [\"Philips Audio SPA8140B/94 50W 4.1 Channel Multimedia Speaker System, Black\",\"₹4,338\",\"2,701\"]\n",
        "\n",
        "scraper = AutoScraper()\n",
        "result = scraper.build(url, wanted_list)\n",
        "data = scraper.get_result_similar(url, grouped=True)\n"
      ],
      "metadata": {
        "id": "2u9FV2Y7H7Go"
      },
      "execution_count": 38,
      "outputs": []
    },
    {
      "cell_type": "code",
      "source": [
        "print(data)"
      ],
      "metadata": {
        "colab": {
          "base_uri": "https://localhost:8080/"
        },
        "id": "bUltKefFe-2Q",
        "outputId": "7822e280-5682-47cf-fab3-072dc536a93b"
      },
      "execution_count": 39,
      "outputs": [
        {
          "output_type": "stream",
          "name": "stdout",
          "text": [
            "{'rule_7iw8': ['Philips Audio MMS2625B 2.1 CH Bluetooth Multimedia Speakers (Black)', 'Polk Audio T15 100 Watt 5.1 Channel Wired Bookshelf Speaker with Dolby (Black)', 'Amazon\\'s Choicefor \"home theater\"', 'Philips Audio MMS8085B/94 2.1 Channel 80W Multimedia Speaker System with Convertible Soundbar & Multi-Connectivity Option (Black)', 'Sony HT-S20R Real 5.1ch Dolby Digital Soundbar for TV with subwoofer and Compact Rear Speakers, 5.1ch Home Theatre System (400W,Bluetooth & USB Connectivity, HDMI & Optical connectivity)', 'Best sellerin Home Theater Systems', 'Philips Audio SPA8140B/94 50W 4.1 Channel Multimedia Speaker System, Black', 'Best sellerin Soundbar Speakers', 'Zebronics Zeb-JUKEBAR 3900, 80W Multimedia soundbar with subwoofer Supporting Bluetooth, HDMI(ARC), Coaxial Input, AUX, USB & Remote Control (Black)', 'Zebronics ZEB-BT2490RUCF Wireless Bluetooth Multimedia Speaker with Supporting SD Card, USB, AUX, FM & Remote Control. (34 Watt, 2.1 Channel)', 'Zebronics ZEB-BT3490RUCF Wireless Bluetooth Multimedia Speaker With Supporting SD Card, USB, AUX, FM & Remote Control. (50 Watt, 4.1 Channel)', 'elevn Wireless, USB, Auxiliary, Bluetooth Aura 2.1 Deep Bass Premium 5.0 BT Multimedia Subwoofer Speaker with 80 Watts Peak Output, LED Display and Remote Control (Black)', 'I KALL IK-409 Multimedia Home Theatre System with Bluetooth, Aux, USB, FM Connectivity (4.1, Black)', 'Tronica Super King 40W 5.1 Bluetooth Home Theater System with FM/PenDrive/Sd Card/Mobile/Aux Support & Remote', 'elevn Aura 120W 4.1 Channel Wireless, USB, Auxiliary, Bluetooth Subwoofer - Black', 'Zebronics ZEB-BT6590RUCF Wireless Bluetooth Multimedia Speaker with Supporting SD Card, USB, AUX, FM & Remote Control. (65 Watt, 5.1 Channel)', 'Philips Audio SPA5128B 5.1 CH 40W Bluetooth Multimedia Speakers (Black)', 'boAt Aavante Bar 1500 2.1 Channel Home Theatre Soundbar with 120W boAt Signature Sound, Wired Subwoofer, Multiple Connectivity Modes, Entertainment EQ Modes and Sleek Finish (Black)', 'Zebronics Zeb-Warrior 2.0 Multimedia Speaker with Aux Connectivity,USB Powered and Volume Control'], 'rule_ut66': ['Philips Audio MMS2625B 2.1 CH Bluetooth Multimedia Speakers (Black)', 'Polk Audio T15 100 Watt 5.1 Channel Wired Bookshelf Speaker with Dolby (Black)', 'Philips Audio MMS8085B/94 2.1 Channel 80W Multimedia Speaker System with Convertible Soundbar & Multi-Connectivity Option...', 'Sony HT-S20R Real 5.1ch Dolby Digital Soundbar for TV with subwoofer and Compact Rear Speakers, 5.1ch Home Theatre System...', 'Philips Audio SPA8140B/94 50W 4.1 Channel Multimedia Speaker System, Black', 'Zebronics Zeb-JUKEBAR 3900, 80W Multimedia soundbar with subwoofer Supporting Bluetooth, HDMI(ARC), Coaxial Input, AUX, US...', 'Zebronics ZEB-BT2490RUCF Wireless Bluetooth Multimedia Speaker with Supporting SD Card, USB, AUX, FM & Remote Control. (34...', 'Zebronics ZEB-BT3490RUCF Wireless Bluetooth Multimedia Speaker With Supporting SD Card, USB, AUX, FM & Remote Control. (50...', 'elevn Wireless, USB, Auxiliary, Bluetooth Aura 2.1 Deep Bass Premium 5.0 BT Multimedia Subwoofer Speaker with 80 Watts Pea...', 'I KALL IK-409 Multimedia Home Theatre System with Bluetooth, Aux, USB, FM Connectivity (4.1, Black)', 'Tronica Super King 40W 5.1 Bluetooth Home Theater System with FM/PenDrive/Sd Card/Mobile/Aux Support & Remote', 'elevn Aura 120W 4.1 Channel Wireless, USB, Auxiliary, Bluetooth Subwoofer - Black', 'Zebronics ZEB-BT6590RUCF Wireless Bluetooth Multimedia Speaker with Supporting SD Card, USB, AUX, FM & Remote Control. (65...', 'Philips Audio SPA5128B 5.1 CH 40W Bluetooth Multimedia Speakers (Black)', 'boAt Aavante Bar 1500 2.1 Channel Home Theatre Soundbar with 120W boAt Signature Sound, Wired Subwoofer, Multiple Connecti...', 'Zebronics Zeb-Warrior 2.0 Multimedia Speaker with Aux Connectivity,USB Powered and Volume Control'], 'rule_6ko0': ['3,993', '4,704', '5,054', '5,417', '2,701', '3,750', '3,633', '251', '1,027', '137', '3,392', '1,027', '6,978', '683', '8,837', '16,785']}\n"
          ]
        }
      ]
    },
    {
      "cell_type": "code",
      "source": [
        "key = list(data.keys())\n",
        "print(key)"
      ],
      "metadata": {
        "colab": {
          "base_uri": "https://localhost:8080/"
        },
        "id": "fZadZiBsfnBc",
        "outputId": "90d4c99f-be7a-44d1-a4c3-789c3386aea0"
      },
      "execution_count": 40,
      "outputs": [
        {
          "output_type": "stream",
          "name": "stdout",
          "text": [
            "['rule_7iw8', 'rule_ut66', 'rule_6ko0']\n"
          ]
        }
      ]
    },
    {
      "cell_type": "code",
      "source": [
        "scraper.set_rule_aliases({'rule_7iw8':'Title', 'rule_ut66':'Price', 'rule_6ko0':'Rating'})\n",
        "\n",
        "# keeping the same rules for other queries also\n",
        "scraper.keep_rules(['rule_7iw8', 'rule_ut66', 'rule_6ko0'])\n",
        "scraper.save('amazon-search')"
      ],
      "metadata": {
        "id": "FejZLbFIf1IX"
      },
      "execution_count": 42,
      "outputs": []
    },
    {
      "cell_type": "code",
      "source": [
        "# specify the path\n",
        "scraper.load(\"/content/amazon-search\")\n",
        "result = scraper.get_result_similar(\"https://www.amazon.in/s?k=playstation\", group_by_alias=True)"
      ],
      "metadata": {
        "id": "tP1UCk-EgO15"
      },
      "execution_count": 43,
      "outputs": []
    },
    {
      "cell_type": "code",
      "source": [
        "import pandas as pd\n",
        "df = pd.DataFrame(dict([ (k,pd.Series(v)) for k,v in result.items() ]))\n",
        "# Converting our DataFrame to CSV file\n",
        "df.to_csv('PlayStation_Data.csv')"
      ],
      "metadata": {
        "id": "zFT3pKwWgcBK"
      },
      "execution_count": 44,
      "outputs": []
    }
  ]
}