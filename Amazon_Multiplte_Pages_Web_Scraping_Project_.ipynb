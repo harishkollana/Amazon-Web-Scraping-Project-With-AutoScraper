{
  "nbformat": 4,
  "nbformat_minor": 0,
  "metadata": {
    "colab": {
      "name": "Amazon Multiplte Pages Web Scraping Project .ipynb",
      "provenance": [],
      "collapsed_sections": [],
      "mount_file_id": "1ajRWEpyXV_OyOkgaK-6rEyr8b1zo0hP3",
      "authorship_tag": "ABX9TyNUdsKeDpbJ3K7Zc/PYP2dL"
    },
    "kernelspec": {
      "name": "python3",
      "display_name": "Python 3"
    },
    "language_info": {
      "name": "python"
    }
  },
  "cells": [
    {
      "cell_type": "markdown",
      "source": [
        "# Amazon Web Scraper"
      ],
      "metadata": {
        "id": "XtCzMdfGQwgd"
      }
    },
    {
      "cell_type": "markdown",
      "source": [
        "import libraries"
      ],
      "metadata": {
        "id": "JsYqFVy0Flz0"
      }
    },
    {
      "cell_type": "code",
      "source": [
        "!pip install selenium\n",
        "!apt-get update \n",
        "!apt install chromium-chromedriver\n",
        "!pip install lxml\n",
        "\n",
        "import csv\n",
        "from bs4 import BeautifulSoup\n",
        "from time import sleep\n",
        "from datetime import datetime\n",
        "from random import random\n",
        "from selenium.common import exceptions\n",
        "from selenium import webdriver"
      ],
      "metadata": {
        "colab": {
          "base_uri": "https://localhost:8080/"
        },
        "id": "d5pT3GRWSFbB",
        "outputId": "3d3210c7-f230-4d84-9eda-302f0b6b999f"
      },
      "execution_count": 110,
      "outputs": [
        {
          "output_type": "stream",
          "name": "stdout",
          "text": [
            "Requirement already satisfied: selenium in /usr/local/lib/python3.7/dist-packages (4.1.0)\n",
            "Requirement already satisfied: trio-websocket~=0.9 in /usr/local/lib/python3.7/dist-packages (from selenium) (0.9.2)\n",
            "Requirement already satisfied: urllib3[secure]~=1.26 in /usr/local/lib/python3.7/dist-packages (from selenium) (1.26.8)\n",
            "Requirement already satisfied: trio~=0.17 in /usr/local/lib/python3.7/dist-packages (from selenium) (0.19.0)\n",
            "Requirement already satisfied: outcome in /usr/local/lib/python3.7/dist-packages (from trio~=0.17->selenium) (1.1.0)\n",
            "Requirement already satisfied: async-generator>=1.9 in /usr/local/lib/python3.7/dist-packages (from trio~=0.17->selenium) (1.10)\n",
            "Requirement already satisfied: sniffio in /usr/local/lib/python3.7/dist-packages (from trio~=0.17->selenium) (1.2.0)\n",
            "Requirement already satisfied: attrs>=19.2.0 in /usr/local/lib/python3.7/dist-packages (from trio~=0.17->selenium) (21.4.0)\n",
            "Requirement already satisfied: sortedcontainers in /usr/local/lib/python3.7/dist-packages (from trio~=0.17->selenium) (2.4.0)\n",
            "Requirement already satisfied: idna in /usr/local/lib/python3.7/dist-packages (from trio~=0.17->selenium) (2.10)\n",
            "Requirement already satisfied: wsproto>=0.14 in /usr/local/lib/python3.7/dist-packages (from trio-websocket~=0.9->selenium) (1.0.0)\n",
            "Requirement already satisfied: pyOpenSSL>=0.14 in /usr/local/lib/python3.7/dist-packages (from urllib3[secure]~=1.26->selenium) (22.0.0)\n",
            "Requirement already satisfied: cryptography>=1.3.4 in /usr/local/lib/python3.7/dist-packages (from urllib3[secure]~=1.26->selenium) (36.0.1)\n",
            "Requirement already satisfied: certifi in /usr/local/lib/python3.7/dist-packages (from urllib3[secure]~=1.26->selenium) (2021.10.8)\n",
            "Requirement already satisfied: cffi>=1.12 in /usr/local/lib/python3.7/dist-packages (from cryptography>=1.3.4->urllib3[secure]~=1.26->selenium) (1.15.0)\n",
            "Requirement already satisfied: pycparser in /usr/local/lib/python3.7/dist-packages (from cffi>=1.12->cryptography>=1.3.4->urllib3[secure]~=1.26->selenium) (2.21)\n",
            "Requirement already satisfied: h11<1,>=0.9.0 in /usr/local/lib/python3.7/dist-packages (from wsproto>=0.14->trio-websocket~=0.9->selenium) (0.13.0)\n",
            "Requirement already satisfied: typing-extensions in /usr/local/lib/python3.7/dist-packages (from h11<1,>=0.9.0->wsproto>=0.14->trio-websocket~=0.9->selenium) (3.10.0.2)\n",
            "Hit:1 http://security.ubuntu.com/ubuntu bionic-security InRelease\n",
            "Hit:2 https://cloud.r-project.org/bin/linux/ubuntu bionic-cran40/ InRelease\n",
            "Ign:3 https://developer.download.nvidia.com/compute/cuda/repos/ubuntu1804/x86_64  InRelease\n",
            "Ign:4 https://developer.download.nvidia.com/compute/machine-learning/repos/ubuntu1804/x86_64  InRelease\n",
            "Hit:5 http://ppa.launchpad.net/c2d4u.team/c2d4u4.0+/ubuntu bionic InRelease\n",
            "Hit:6 https://developer.download.nvidia.com/compute/cuda/repos/ubuntu1804/x86_64  Release\n",
            "Hit:7 https://developer.download.nvidia.com/compute/machine-learning/repos/ubuntu1804/x86_64  Release\n",
            "Hit:8 http://archive.ubuntu.com/ubuntu bionic InRelease\n",
            "Hit:9 http://archive.ubuntu.com/ubuntu bionic-updates InRelease\n",
            "Hit:10 http://ppa.launchpad.net/cran/libgit2/ubuntu bionic InRelease\n",
            "Hit:11 http://archive.ubuntu.com/ubuntu bionic-backports InRelease\n",
            "Hit:12 http://ppa.launchpad.net/deadsnakes/ppa/ubuntu bionic InRelease\n",
            "Hit:13 http://ppa.launchpad.net/graphics-drivers/ppa/ubuntu bionic InRelease\n",
            "Reading package lists... Done\n",
            "Reading package lists... Done\n",
            "Building dependency tree       \n",
            "Reading state information... Done\n",
            "chromium-chromedriver is already the newest version (97.0.4692.71-0ubuntu0.18.04.1).\n",
            "0 upgraded, 0 newly installed, 0 to remove and 75 not upgraded.\n",
            "Requirement already satisfied: lxml in /usr/local/lib/python3.7/dist-packages (4.2.6)\n"
          ]
        }
      ]
    },
    {
      "cell_type": "markdown",
      "source": [
        "Startup Web Driver"
      ],
      "metadata": {
        "id": "yRW0EnvSsGS-"
      }
    },
    {
      "cell_type": "code",
      "source": [
        "def create_webdriver():\n",
        "  chrome_options = webdriver.ChromeOptions()\n",
        "  chrome_options.add_argument('--headless')\n",
        "  chrome_options.add_argument('--no-sandbox')\n",
        "  chrome_options.add_argument('--disable-dev-shm-usage')\n",
        "  driver = webdriver.Chrome('chromedriver',chrome_options=chrome_options)\n",
        "  return driver"
      ],
      "metadata": {
        "id": "eeNpdhWFsF4C"
      },
      "execution_count": 111,
      "outputs": []
    },
    {
      "cell_type": "markdown",
      "source": [
        "Generate Url"
      ],
      "metadata": {
        "id": "JLw3LX02sJTB"
      }
    },
    {
      "cell_type": "code",
      "source": [
        "def generate_url(search_term, page):\n",
        "    base_template = 'https://www.amazon.com/s?k={}'\n",
        "    search_term = search_term.replace(' ', '+')\n",
        "    stem = base_template.format(search_term)\n",
        "    url_template = stem + '&page={}'\n",
        "    if page == 1:\n",
        "        return stem\n",
        "    else:\n",
        "        return url_template.format(page)\n"
      ],
      "metadata": {
        "id": "I5nBtRaqsL8F"
      },
      "execution_count": 112,
      "outputs": []
    },
    {
      "cell_type": "markdown",
      "source": [
        "Extract Card Data"
      ],
      "metadata": {
        "id": "wfHVvn6JtWKt"
      }
    },
    {
      "cell_type": "code",
      "source": [
        "def extract_card_data(card):\n",
        "    description = card.find_element_by_xpath('.//h2/a').text.strip()\n",
        "    url = card.find_element_by_xpath('.//h2/a').get_attribute('href')\n",
        "    try:\n",
        "        price = card.find_element_by_xpath('.//span[@class=\"a-price-whole\"]').text\n",
        "    except exceptions.NoSuchElementException:\n",
        "        return\n",
        "    try:\n",
        "        temp = card.find_element_by_xpath('.//span[contains(@aria-label, \"out of\")]')\n",
        "        rating = temp.get_attribute('aria-label')\n",
        "    except exceptions.NoSuchElementException:\n",
        "        rating = \"\"\n",
        "    try:\n",
        "        temp = card.find_element_by_xpath('.//span[contains(@aria-label, \"out of\")]/following-sibling::span')\n",
        "        review_count = temp.get_attribute('aria-label')\n",
        "    except exceptions.NoSuchElementException:\n",
        "        review_count = \"\"\n",
        "    return description, price, rating, review_count, url"
      ],
      "metadata": {
        "id": "KB8j307FtZ-m"
      },
      "execution_count": 113,
      "outputs": []
    },
    {
      "cell_type": "markdown",
      "source": [
        "Collect Product Cards from page"
      ],
      "metadata": {
        "id": "ep0dNCCYtbR1"
      }
    },
    {
      "cell_type": "code",
      "source": [
        "def collect_product_cards_from_page(driver):\n",
        "    cards = driver.find_elements_by_xpath('//div[@data-component-type=\"s-search-result\"]')\n",
        "    return cards"
      ],
      "metadata": {
        "id": "MhfLp6PKtlEJ"
      },
      "execution_count": 114,
      "outputs": []
    },
    {
      "cell_type": "markdown",
      "source": [
        "Sleep For Random Intervals"
      ],
      "metadata": {
        "id": "HfDaZ3LNtlnm"
      }
    },
    {
      "cell_type": "code",
      "source": [
        "def sleep_for_random_interval():\n",
        "    time_in_seconds = random() * 2\n",
        "    sleep(time_in_seconds)"
      ],
      "metadata": {
        "id": "o-f5R-oFtqcw"
      },
      "execution_count": 115,
      "outputs": []
    },
    {
      "cell_type": "markdown",
      "source": [
        "Run The Search Term"
      ],
      "metadata": {
        "id": "6q5mTkPhtygo"
      }
    },
    {
      "cell_type": "code",
      "source": [
        "def run(search_term):\n",
        "    \"\"\"Run the Amazon webscraper\"\"\"\n",
        "    filename = generate_filename(search_term)\n",
        "    save_data_to_csv(None, filename, new_file=True)  # initialize a new file\n",
        "    driver = create_webdriver()\n",
        "    num_records_scraped = 0\n",
        "\n",
        "    for page in range(1, 21):  # max of 20 pages\n",
        "        # load the next page\n",
        "        search_url = generate_url(search_term, page)\n",
        "        print(search_url)\n",
        "        driver.get(search_url)\n",
        "        print('TIMEOUT while waiting for page to load')\n",
        "\n",
        "        # extract product data\n",
        "        cards = collect_product_cards_from_page(driver)\n",
        "        for card in cards:\n",
        "            record = extract_card_data(card)\n",
        "            if record:\n",
        "                save_data_to_csv(record, filename)\n",
        "                num_records_scraped += 1\n",
        "        sleep_for_random_interval()\n",
        "\n",
        "    # shut down and report results\n",
        "    driver.quit()\n",
        "    print(f\"Scraped {num_records_scraped:,d} for the search term: {search_term}\")\n",
        "\n"
      ],
      "metadata": {
        "id": "F_Wfce9xp7rZ"
      },
      "execution_count": 116,
      "outputs": []
    },
    {
      "cell_type": "markdown",
      "source": [
        "Genrate File Name"
      ],
      "metadata": {
        "id": "iHa6irumr2D6"
      }
    },
    {
      "cell_type": "code",
      "source": [
        "def generate_filename(search_term):\n",
        "    timestamp = datetime.now().strftime(\"%Y%m%d%H%S%M\")\n",
        "    stem = path = '_'.join(search_term.split(' '))\n",
        "    filename = stem + '_' + timestamp + '.csv'\n",
        "    return filename"
      ],
      "metadata": {
        "id": "LB5BpKsCr58k"
      },
      "execution_count": 117,
      "outputs": []
    },
    {
      "cell_type": "markdown",
      "source": [
        "Save Data To Csv Function"
      ],
      "metadata": {
        "id": "cGx45RGnr6z0"
      }
    },
    {
      "cell_type": "code",
      "source": [
        "def save_data_to_csv(record, filename, new_file=False):\n",
        "    header = ['description', 'price', 'rating', 'review_count', 'url']\n",
        "    if new_file:\n",
        "        with open(filename, 'w', newline='', encoding='utf-8') as f:\n",
        "            writer = csv.writer(f)\n",
        "            writer.writerow(header)\n",
        "    else:\n",
        "        with open(filename, 'a+', newline='', encoding='utf-8') as f:\n",
        "            writer = csv.writer(f)\n",
        "            writer.writerow(record)"
      ],
      "metadata": {
        "id": "rIks_GvFr-ln"
      },
      "execution_count": 118,
      "outputs": []
    },
    {
      "cell_type": "markdown",
      "source": [
        "Input Function"
      ],
      "metadata": {
        "id": "_9QyQupxtA04"
      }
    },
    {
      "cell_type": "code",
      "source": [
        "\n",
        "if __name__ == '__main__':\n",
        "    term = 'laptop'\n",
        "    run(term)"
      ],
      "metadata": {
        "colab": {
          "base_uri": "https://localhost:8080/"
        },
        "id": "gOkxYuOFtAkg",
        "outputId": "dcec9172-98ee-4d78-92d2-c2f5d68c94a4"
      },
      "execution_count": 119,
      "outputs": [
        {
          "output_type": "stream",
          "name": "stderr",
          "text": [
            "/usr/local/lib/python3.7/dist-packages/ipykernel_launcher.py:6: DeprecationWarning: use options instead of chrome_options\n",
            "  \n"
          ]
        },
        {
          "output_type": "stream",
          "name": "stdout",
          "text": [
            "https://www.amazon.in/s?k=laptop\n",
            "TIMEOUT while waiting for page to load\n",
            "https://www.amazon.in/s?k=laptop&page=2\n"
          ]
        },
        {
          "output_type": "stream",
          "name": "stderr",
          "text": [
            "/usr/local/lib/python3.7/dist-packages/ipykernel_launcher.py:2: DeprecationWarning: find_elements_by_* commands are deprecated. Please use find_elements() instead\n",
            "  \n"
          ]
        },
        {
          "output_type": "stream",
          "name": "stdout",
          "text": [
            "TIMEOUT while waiting for page to load\n",
            "https://www.amazon.in/s?k=laptop&page=3\n",
            "TIMEOUT while waiting for page to load\n",
            "https://www.amazon.in/s?k=laptop&page=4\n",
            "TIMEOUT while waiting for page to load\n",
            "https://www.amazon.in/s?k=laptop&page=5\n",
            "TIMEOUT while waiting for page to load\n"
          ]
        },
        {
          "output_type": "stream",
          "name": "stderr",
          "text": [
            "/usr/local/lib/python3.7/dist-packages/selenium/webdriver/remote/webelement.py:393: UserWarning: find_element_by_* commands are deprecated. Please use find_element() instead\n",
            "  warnings.warn(\"find_element_by_* commands are deprecated. Please use find_element() instead\")\n"
          ]
        },
        {
          "output_type": "stream",
          "name": "stdout",
          "text": [
            "Scraped 15 for the search term: laptop\n"
          ]
        }
      ]
    }
  ]
}